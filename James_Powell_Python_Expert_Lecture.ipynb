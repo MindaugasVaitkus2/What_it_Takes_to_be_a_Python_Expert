{
 "cells": [
  {
   "cell_type": "markdown",
   "metadata": {},
   "source": [
    "<h1>James Powell on Core Concepts of Python</h1>"
   ]
  },
  {
   "cell_type": "markdown",
   "metadata": {},
   "source": [
    "<h2>The protocol view of python</h2>\n",
    "<p>If you look at the object orientation of python there are three core patterns we have to understand. One of them is protocol view of python. </p>"
   ]
  },
  {
   "cell_type": "code",
   "execution_count": 1,
   "metadata": {},
   "outputs": [],
   "source": [
    "class Polynomial:\n",
    "    pass\n",
    "\n",
    "p1 = Polynomial()\n",
    "p2 = Polynomial()\n",
    "p1.coeffs = 1, 2, 3 #x**2 + 2x + 3\n",
    "p2.coeffs = 3, 4, 3 #x**2 + 4x + 3"
   ]
  },
  {
   "cell_type": "markdown",
   "metadata": {},
   "source": [
    "<h6>__init__</h6>\n",
    "<p>Why write in 4 lines when we can write it in two lines? Two lines will do.<p/>"
   ]
  },
  {
   "cell_type": "code",
   "execution_count": 2,
   "metadata": {},
   "outputs": [
    {
     "name": "stdout",
     "output_type": "stream",
     "text": [
      "<__main__.Polynomial object at 0x7fd7707c4e10>\n",
      "<__main__.Polynomial object at 0x7fd7707c4e80>\n"
     ]
    }
   ],
   "source": [
    "class Polynomial:\n",
    "    def __init__(self, *coeffs):\n",
    "        self.coeffs = coeffs\n",
    "\n",
    "\n",
    "p1 = Polynomial(1, 2, 3)\n",
    "p2 = Polynomial(3, 4, 3)\n",
    "\n",
    "print(p1)\n",
    "print(p2)"
   ]
  },
  {
   "cell_type": "markdown",
   "metadata": {},
   "source": [
    "<h6>__repr__</h6>\n",
    "<p>That looks ugly because we are missing the method that corresponds to what happens when we call top level repr function to figure out the representation of our python object.<p/>"
   ]
  },
  {
   "cell_type": "code",
   "execution_count": 3,
   "metadata": {},
   "outputs": [
    {
     "name": "stdout",
     "output_type": "stream",
     "text": [
      "Polynomial(*(1, 2, 3))\n",
      "Polynomial(*(3, 4, 3))\n"
     ]
    }
   ],
   "source": [
    "class Polynomial:\n",
    "    def __init__(self, *coeffs):\n",
    "        self.coeffs = coeffs\n",
    "        \n",
    "    def __repr__(self):\n",
    "        return 'Polynomial(*{!r})'.format(self.coeffs)\n",
    "\n",
    "\n",
    "p1 = Polynomial(1, 2, 3)\n",
    "p2 = Polynomial(3, 4, 3)\n",
    "\n",
    "print(p1)\n",
    "print(p2)"
   ]
  },
  {
   "cell_type": "markdown",
   "metadata": {},
   "source": [
    "<h6>__add__</h6>\n",
    "<p>What about adding polynomial objects together?<p/>"
   ]
  },
  {
   "cell_type": "code",
   "execution_count": 4,
   "metadata": {},
   "outputs": [
    {
     "name": "stdout",
     "output_type": "stream",
     "text": [
      "Polynomial(*(1, 2, 3))\n",
      "Polynomial(*(3, 4, 3))\n",
      "Polynomial(*(4, 6, 6))\n"
     ]
    }
   ],
   "source": [
    "class Polynomial:\n",
    "    def __init__(self, *coeffs):\n",
    "        self.coeffs = coeffs\n",
    "        \n",
    "    def __repr__(self):\n",
    "        return 'Polynomial(*{!r})'.format(self.coeffs)\n",
    "    \n",
    "    def __add__(self, other):\n",
    "        return Polynomial(*(x + y for x, y in zip(self.coeffs, other.coeffs)))\n",
    "\n",
    "\n",
    "p1 = Polynomial(1, 2, 3)\n",
    "p2 = Polynomial(3, 4, 3)\n",
    "\n",
    "print(p1)\n",
    "print(p2)\n",
    "\n",
    "print(p1 + p2)"
   ]
  },
  {
   "cell_type": "markdown",
   "metadata": {},
   "source": [
    "<h4>What pattern do we see?</h4>\n",
    "<p>If we have some behaviour we want to implement --> we write some __function__ to implement it. This functions are called dunder methods. </p> \n",
    "<p>It has also an abhorrent name <i>data model methods</i>. Python documentation contains a whole list of this methods. Whenever we want to implement some behaviour in python we want to tell python \"for this arbitary object do this behaviour, like give the printable representation for this object, perform an addition of this objects.\"</p>\n",
    "<p>The pattern is: there is a top-level function or some top-level syntax and there is a corresponding dunder function. The exact arguments that the underscore function takes are determined by python documentation. The default names of the arguments can be picked up by the documentation also. </p>\n",
    "<p>But there is something more fundamental than this. If we want to implement the summation of two objects x + y --> we implement __add__, if we want to define how we instantiate an object --> we implement __init__. </p>\n",
    "<h6>__len__</h6>"
   ]
  },
  {
   "cell_type": "markdown",
   "metadata": {},
   "source": [
    "<p>What a size of a polynomial might me? The highest degree of the polynomial. We will implement __len__ function to tell us the size of the polynomial</p>"
   ]
  },
  {
   "cell_type": "code",
   "execution_count": 5,
   "metadata": {},
   "outputs": [
    {
     "name": "stdout",
     "output_type": "stream",
     "text": [
      "3\n"
     ]
    }
   ],
   "source": [
    "class Polynomial:\n",
    "    def __init__(self, *coeffs):\n",
    "        self.coeffs = coeffs\n",
    "        \n",
    "    def __repr__(self):\n",
    "        return 'Polynomial(*{!r})'.format(self.coeffs)\n",
    "    \n",
    "    def __add__(self, other):\n",
    "        return Polynomial(*(x + y for x, y in zip(self.coeffs, other.coeffs)))\n",
    "    \n",
    "    def __len__(self):\n",
    "        return len(self.coeffs)\n",
    "\n",
    "\n",
    "p1 = Polynomial(1, 2, 3)\n",
    "p2 = Polynomial(3, 4, 3)\n",
    "\n",
    "print(len(p1))"
   ]
  },
  {
   "cell_type": "markdown",
   "metadata": {},
   "source": [
    "<h4>The pattern as we see is as follows:</h4>\n",
    "<p>The python data model is a means by which we can implement protocols. Those protocols have some abstract meaning depending on the object itself. In the case of a polynomial summation means whatever it ment in the math class.</p>\n",
    "<p>To get its printable representation we use __repr__. Printable representation is typically whatever string we have to type in the console to get a new instance of that object.</p>\n",
    "<p>In each case that protocol exists, there is some underscore method that implements this protocol, and there is some top-level function like len or top-level syntax like + sign that allows us to invoke that protocol and it all fits together.</p>\n",
    "<p>When we implement smth like __len__ we do that by delegating back to the protocol itself. __len__ is implemented in terms of len() being called on a constituent object. __add__ is implemented by adding up some components. </p>\n",
    "<p>If we have some top-level syntax like parentheses that come after the object x(), we call it the __call__ protocol. </p>"
   ]
  },
  {
   "cell_type": "code",
   "execution_count": 6,
   "metadata": {},
   "outputs": [],
   "source": [
    "class Polynomial:\n",
    "    def __init__(self, *coeffs):\n",
    "        self.coeffs = coeffs\n",
    "        \n",
    "    def __repr__(self):\n",
    "        return 'Polynomial(*{!r})'.format(self.coeffs)\n",
    "    \n",
    "    def __add__(self, other):\n",
    "        return Polynomial(*(x + y for x, y in zip(self.coeffs, other.coeffs)))\n",
    "    \n",
    "    def __len__(self):\n",
    "        return len(self.coeffs)\n",
    "    \n",
    "    def __call__(self):\n",
    "        #no idea what should polynomial do\n",
    "        pass\n",
    "\n",
    "\n",
    "p1 = Polynomial(1, 2, 3)\n",
    "p2 = Polynomial(3, 4, 3)\n"
   ]
  },
  {
   "cell_type": "markdown",
   "metadata": {},
   "source": [
    "<h2>Metaclasses</h2>\n",
    "<p>If you know what metaclasses are it is very clear and very obvious for why and when you use it and it is someting you can kind of shelf away in your mind as \"oh, this feature does this, this is why I want to use it, i don't have to use it all the time\". </p>\n",
    "<p>Let's imagine there are two teams on the project and one team writes libraty code and the other team writes user code. People on the user side cant touch library code.</p>"
   ]
  },
  {
   "cell_type": "code",
   "execution_count": 7,
   "metadata": {},
   "outputs": [],
   "source": [
    "# library.py\n",
    "# there is an actual library.py file in the directory of the project\n",
    "# the code here is for demonstration purposes\n",
    "\n",
    "class Base:\n",
    "    def foo(self):\n",
    "        return 'foo'"
   ]
  },
  {
   "cell_type": "code",
   "execution_count": null,
   "metadata": {},
   "outputs": [],
   "source": [
    "# user.py\n",
    "from library import Base\n",
    "\n",
    "class Derived(Base):\n",
    "    def bar(self):\n",
    "        return self.foo()\n",
    "    \n",
    "# this code can break if there is no foo method. "
   ]
  },
  {
   "cell_type": "markdown",
   "metadata": {},
   "source": [
    "<p><b>What we can do to figure out our code brakes before the runtime?</b> We can write a test for example. We will see that the code fails some time before it hits the runtime production environment.</p> \n",
    "<p>But maybe there is one thing that we can add to this code so it fails before it hits the runtime production environment?</p>\n",
    "<p>For example, we can add assert and see if the Base has no foo method before we even came up to derived class.</p>"
   ]
  },
  {
   "cell_type": "code",
   "execution_count": null,
   "metadata": {},
   "outputs": [],
   "source": [
    "#user.py\n",
    "from library import Base\n",
    "\n",
    "assert hasattr(Base, 'foo'), \"You broke it!\"\n",
    "\n",
    "class Derived(Base):\n",
    "    def bar(self):\n",
    "        return self.foo()"
   ]
  },
  {
   "cell_type": "markdown",
   "metadata": {},
   "source": [
    "<p>So now we have an early warning that this has broken. And what we are trying to do here is enforce a constraint. The user level enforces a constraint on a library level, in other words, the Derived class is enforcing a constraint on a base class. The Derived class says \"the Base class should have this characteristics in order for me to run and be happy. If it does not foo method implemented i will fail.\"</p>\n",
    "<br>\n",
    "<br>\n",
    "<p>Let's say instead, <b>we are working on a library side and we don't want people to screw code on a user side of the project</b>. And we can't change anything on the user side of the code. And how do we make sure that the code will be implemented on the user side? There are three answers to this. One is metaclasses. But maybe we can try use __build_class__ at first.</p>"
   ]
  },
  {
   "cell_type": "code",
   "execution_count": null,
   "metadata": {},
   "outputs": [],
   "source": [
    "# library3.py\n",
    "class Base:\n",
    "    def foo(self):\n",
    "        return self.bar()\n",
    "\n",
    "# we write this Base class under the assumption that developer in user department\n",
    "# will implement bar() method, because if they don't, everything falls apart."
   ]
  },
  {
   "cell_type": "code",
   "execution_count": null,
   "metadata": {},
   "outputs": [],
   "source": [
    "import sys\n",
    "sys.modules[__name__].__dict__.clear()\n",
    "#user.py\n",
    "from library3 import Base\n",
    "\n",
    "class Derived(Base):\n",
    "    def bar(self):\n",
    "        return foo()"
   ]
  },
  {
   "cell_type": "markdown",
   "metadata": {},
   "source": [
    "<p>The reason we can call python a protocol oriented language is not just because the python data model is protocol oriented, but the entire python language itself has a notion of hooks and protocols and safety valves within it.</p>\n",
    "<p>Python code runs from top to bottom linearly and almost every statement except the two of them are actually executable rutime code. In C++ or Java a class statement is not an executable code. In python it is.</p>"
   ]
  },
  {
   "cell_type": "code",
   "execution_count": 8,
   "metadata": {},
   "outputs": [
    {
     "name": "stdout",
     "output_type": "stream",
     "text": [
      "  5           0 LOAD_BUILD_CLASS\n",
      "              2 LOAD_CONST               1 (<code object Base at 0x7fd7707bfb70, file \"<ipython-input-8-98bf1b7926fc>\", line 5>)\n",
      "              4 LOAD_CONST               2 ('Base')\n",
      "              6 MAKE_FUNCTION            0\n",
      "              8 LOAD_CONST               2 ('Base')\n",
      "             10 CALL_FUNCTION            2\n",
      "             12 STORE_FAST               0 (Base)\n",
      "             14 LOAD_CONST               0 (None)\n",
      "             16 RETURN_VALUE\n"
     ]
    }
   ],
   "source": [
    "import sys\n",
    "sys.modules[__name__].__dict__.clear()\n",
    "\n",
    "def _():\n",
    "    class Base:\n",
    "        pass\n",
    "\n",
    "# dis stands for disassemble\n",
    "from dis import dis\n",
    "dis(_)"
   ]
  },
  {
   "cell_type": "markdown",
   "metadata": {},
   "source": [
    "<p><b>LOAD_BUILD_CLASS</b> is actual executable runtime instruction in the python enterpreteur for creating a class. There typycally in python tends to be a correspondence between some top-level syntax or function and some underscore method that implements that function. There happens to be some top-level mechanism here for building a class (it is not explicitly a function). It turns out in python there is a hook, there is an underscore function that allows us to do things with the process of building classes.</p>"
   ]
  },
  {
   "cell_type": "code",
   "execution_count": null,
   "metadata": {},
   "outputs": [],
   "source": [
    "import sys\n",
    "sys.modules[__name__].__dict__.clear()\n",
    "\n",
    "# library4.py\n",
    "# class Base:\n",
    "#     def foo(self):\n",
    "#         return 'bar'\n",
    "\n",
    "# old_bc = __build_class__\n",
    "\n",
    "# def my_bc(*a, **kw):\n",
    "#     print('my buildclass -->', a, kw)\n",
    "#     return old_bc(*a, **kw)\n",
    "\n",
    "\n",
    "# import builtins\n",
    "# builtins.__build_class__ = my_bc"
   ]
  },
  {
   "cell_type": "code",
   "execution_count": 1,
   "metadata": {},
   "outputs": [
    {
     "name": "stdout",
     "output_type": "stream",
     "text": [
      "my buildclass --> (<function Derived at 0x7f9250a83d08>, 'Derived', <class 'library4.Base'>) {}\n"
     ]
    }
   ],
   "source": [
    "import sys\n",
    "sys.modules[__name__].__dict__.clear()\n",
    "\n",
    "#user.py\n",
    "from library4 import Base\n",
    "\n",
    "class Derived(Base):\n",
    "    def bar(self):\n",
    "        return 'bar'"
   ]
  },
  {
   "cell_type": "markdown",
   "metadata": {},
   "source": [
    "<p>So we can actually catch the building of the class! We passed a function, the name of the class <i>'Derived'</i>, the bases <i>class 'library4.Base'</i> and <i>function Derived at 0x7f50f86b2ea0</i>.</p>\n",
    "<p>So we can add our assert into the building class. </p>"
   ]
  },
  {
   "cell_type": "code",
   "execution_count": 1,
   "metadata": {},
   "outputs": [],
   "source": [
    "import sys\n",
    "sys.modules[__name__].__dict__.clear()\n",
    "\n",
    "class Base:\n",
    "    def foo(self):\n",
    "        return 'bar'\n",
    "\n",
    "old_bc = __build_class__\n",
    "# the base is optional argument because not everything has to have a baseclass\n",
    "def my_bc(fun, name, base=None, **kw):\n",
    "    if base is Base:\n",
    "        print('check if bar method is defined')\n",
    "        return old_bc(fun, name, **kw)\n",
    "    if base is not None:\n",
    "        return old_bc(fun, name, base, **kw)\n",
    "    \n",
    "\n",
    "# import builtins\n",
    "# builtins.__build_class__ = my_bc"
   ]
  },
  {
   "cell_type": "code",
   "execution_count": 1,
   "metadata": {},
   "outputs": [
    {
     "name": "stdout",
     "output_type": "stream",
     "text": [
      "check if bar method is defined\n"
     ]
    }
   ],
   "source": [
    "import sys\n",
    "sys.modules[__name__].__dict__.clear()\n",
    "\n",
    "#user.py\n",
    "from library5 import Base\n",
    "\n",
    "class Derived(Base):\n",
    "    def bar(self):\n",
    "        return 'bar'"
   ]
  },
  {
   "cell_type": "markdown",
   "metadata": {},
   "source": [
    "<p>This is not typically what we do. It is to show us that idea of python being a protocol-oriented language is actually quite a fundamental piece of python. Almost everything that a python language does in an execution context like building classed, creating functions, importing modules, you can find the hook to get into that and start doing things that we want to do.</p>\n",
    "<p>__build_class__ is available for us to use but that is not how we solve the this problem. There are two fundamental features of python that people use to enforce constraints from derived classes to base classes. The first one is the metaclass.</p>\n",
    "<p><b>Metaclasses</b> are merely classes that derive from type that have some special methods on them (we have to look into the documentation to find out what this methods are) that <b>allow us to intercept the construction of derived types</b>.</p>"
   ]
  },
  {
   "cell_type": "code",
   "execution_count": null,
   "metadata": {},
   "outputs": [],
   "source": [
    "# library6.py\n",
    "import sys\n",
    "sys.modules[__name__].__dict__.clear()\n",
    "\n",
    "class BaseMeta(type):\n",
    "    def __new__(cls, name, bases, body):\n",
    "        if not 'bar' in body:\n",
    "            raise TypeError(\"bad user class\")\n",
    "        print('BaseMeta.__new__', cls, name, bases, body)\n",
    "        return super().__new__(cls, name, bases, body)\n",
    "    \n",
    "class Base(metaclass=BaseMeta):\n",
    "    def foo(self):\n",
    "        return self.bar()"
   ]
  },
  {
   "cell_type": "code",
   "execution_count": 1,
   "metadata": {},
   "outputs": [
    {
     "name": "stdout",
     "output_type": "stream",
     "text": [
      "BaseMeta.__new__ <class 'library6.BaseMeta'> Base () {'__module__': 'library6', '__qualname__': 'Base', 'foo': <function Base.foo at 0x7f9814b73d90>}\n",
      "BaseMeta.__new__ <class 'library6.BaseMeta'> Derived (<class 'library6.Base'>,) {'__module__': 'builtins', '__qualname__': 'Derived', 'bar': <function Derived.bar at 0x7f9814b737b8>}\n"
     ]
    }
   ],
   "source": [
    "import sys\n",
    "sys.modules[__name__].__dict__.clear()\n",
    "\n",
    "from library6 import Base\n",
    "\n",
    "class Derived(Base):\n",
    "    def bar(self):\n",
    "        return 'bar'"
   ]
  },
  {
   "cell_type": "markdown",
   "metadata": {},
   "source": [
    "<p>We can see that it got called with our Derived class. The last argument <i>{'__module__': 'builtins', '__qualname__': 'Derived', 'bar': function Derived.bar at 0x7f4941758ae8}</i> is the dictionary with all the methods of that class.</p>\n",
    "<p>So in order to enforce constraints on the derived class we have to find ways to intercept the construction of the classes. Metaclassed, despite being a \"very complicated feature\" is a tool for enforcing constraints down the class hierarchy from a base class to the derived class. </p>"
   ]
  },
  {
   "cell_type": "markdown",
   "metadata": {},
   "source": [
    "<p>The third approach is a variation of the metaclass approach. <b>In python 3.6 new feature was introduced called __init_subclass__ that gives us a method of hooking into creating of a subclass.</b></p>"
   ]
  },
  {
   "cell_type": "code",
   "execution_count": 5,
   "metadata": {},
   "outputs": [
    {
     "name": "stdout",
     "output_type": "stream",
     "text": [
      "BaseMeta.__new__ <class 'BaseMeta'> Base () {'__module__': 'builtins', '__qualname__': 'Base', 'foo': <function Base.foo at 0x7f98142fbf28>, '__init_subclass__': <function Base.__init_subclass__ at 0x7f98142fbd90>, '__classcell__': <cell at 0x7f9814b806a8: empty>}\n",
      "BaseMeta.__new__ <class 'BaseMeta'> Derived (<class 'Base'>,) {'__module__': 'builtins', '__qualname__': 'Derived', 'bar': <function Derived.bar at 0x7f9814312598>}\n",
      "init_subclass () {}\n"
     ]
    }
   ],
   "source": [
    "# library7.py\n",
    "class BaseMeta(type):\n",
    "    def __new__(cls, name, bases, body):\n",
    "        if name != 'Base' and not 'bar' in body:\n",
    "            raise TypeError(\"bad user class\")\n",
    "        print('BaseMeta.__new__', cls, name, bases, body)\n",
    "        return super().__new__(cls, name, bases, body)\n",
    "\n",
    "class Base(metaclass=BaseMeta):\n",
    "    def foo(self):\n",
    "        return self.bar()\n",
    "    def __init_subclass__(self, *a, **kw):\n",
    "        print('init_subclass', a, kw)\n",
    "        return super().__init_subclass__(*a, **kw)\n",
    "\n",
    "# user.py\n",
    "class Derived(Base):\n",
    "    def bar(self):\n",
    "        return 'bar'\n",
    "        \n"
   ]
  },
  {
   "cell_type": "markdown",
   "metadata": {},
   "source": [
    "<h2>Decorators</h2>\n",
    "<p>Python is a live language. And function definition in python is actually a live thing.</p>"
   ]
  },
  {
   "cell_type": "code",
   "execution_count": 23,
   "metadata": {},
   "outputs": [
    {
     "name": "stdout",
     "output_type": "stream",
     "text": [
      "<function add at 0x7f9814312158>\n"
     ]
    }
   ],
   "source": [
    "def add(x, y=10):\n",
    "    return x + y\n",
    "\n",
    "print(add)"
   ]
  },
  {
   "cell_type": "markdown",
   "metadata": {},
   "source": [
    "<p>Python interpreter tells where actually in memory this function exists. And this function is an object, so we can ask all sorts of things like what is name of it.</p>"
   ]
  },
  {
   "cell_type": "code",
   "execution_count": 24,
   "metadata": {},
   "outputs": [
    {
     "name": "stdout",
     "output_type": "stream",
     "text": [
      "add\n"
     ]
    }
   ],
   "source": [
    "print(add.__name__)"
   ]
  },
  {
   "cell_type": "code",
   "execution_count": 25,
   "metadata": {},
   "outputs": [
    {
     "name": "stdout",
     "output_type": "stream",
     "text": [
      "None\n"
     ]
    }
   ],
   "source": [
    "print(add.__module__)"
   ]
  },
  {
   "cell_type": "code",
   "execution_count": 26,
   "metadata": {},
   "outputs": [
    {
     "name": "stdout",
     "output_type": "stream",
     "text": [
      "(10,)\n"
     ]
    }
   ],
   "source": [
    "print(add.__defaults__)"
   ]
  },
  {
   "cell_type": "code",
   "execution_count": 27,
   "metadata": {},
   "outputs": [
    {
     "name": "stdout",
     "output_type": "stream",
     "text": [
      "b'|\\x00|\\x01\\x17\\x00S\\x00'\n"
     ]
    }
   ],
   "source": [
    "# ouputs the actual byte code of our add function\n",
    "print(add.__code__.co_code)"
   ]
  },
  {
   "cell_type": "code",
   "execution_count": 28,
   "metadata": {},
   "outputs": [
    {
     "name": "stdout",
     "output_type": "stream",
     "text": [
      "2\n"
     ]
    }
   ],
   "source": [
    "# ouputs how many local variables does it have\n",
    "print(add.__code__.co_nlocals)"
   ]
  },
  {
   "cell_type": "code",
   "execution_count": 29,
   "metadata": {},
   "outputs": [
    {
     "name": "stdout",
     "output_type": "stream",
     "text": [
      "('x', 'y')\n"
     ]
    }
   ],
   "source": [
    "# outputs what are the variable names in this function\n",
    "print(add.__code__.co_varnames)"
   ]
  },
  {
   "cell_type": "markdown",
   "metadata": {},
   "source": [
    "<p>Every python structure that you interact with (whether it is an object or a function or a generator) has some runtime life. We can see in in memory and ask questions. </p>"
   ]
  },
  {
   "cell_type": "code",
   "execution_count": 30,
   "metadata": {},
   "outputs": [
    {
     "name": "stdout",
     "output_type": "stream",
     "text": [
      "def add(x, y=10):\n",
      "    return x + y\n",
      "\n"
     ]
    }
   ],
   "source": [
    "#inspect function can even give us a source code\n",
    "from inspect import getsource\n",
    "print(getsource(add))\n",
    "\n",
    "#and we there are many more useful functions"
   ]
  },
  {
   "cell_type": "code",
   "execution_count": 33,
   "metadata": {},
   "outputs": [
    {
     "name": "stdout",
     "output_type": "stream",
     "text": [
      "add(10): 20\n",
      "time_take: 0.00018215179443359375\n"
     ]
    }
   ],
   "source": [
    "from time import time\n",
    "\n",
    "def add (x, y=10):\n",
    "    return x + y\n",
    "\n",
    "before = time()\n",
    "print('add(10):', add(10))\n",
    "after = time()\n",
    "print('time_take:', after - before)"
   ]
  },
  {
   "cell_type": "code",
   "execution_count": 36,
   "metadata": {},
   "outputs": [
    {
     "name": "stdout",
     "output_type": "stream",
     "text": [
      "elapsed 2.1457672119140625e-06\n",
      "30\n"
     ]
    }
   ],
   "source": [
    "from time import time\n",
    "\n",
    "def timer(func):\n",
    "    def f(*args, **kwargs):\n",
    "        before = time()\n",
    "        rv = func(*args, **kwargs)\n",
    "        after = time()\n",
    "        print('elapsed', after - before)\n",
    "        return rv\n",
    "    return f\n",
    "\n",
    "@timer\n",
    "def add(x, y=10):\n",
    "    return x + y\n",
    "\n",
    "print(add(20))"
   ]
  },
  {
   "cell_type": "markdown",
   "metadata": {},
   "source": [
    "<p>A decorator is merely a syntax that is equivalent to the syntax <i>sub = timer(sub).</i></p> \n",
    "<p>Its syntax fits into the ability to dynamically construct a function to wrap this behaviour. So we were able to slip in the extra functionality we want withour rewriting the code. With *args and **kwargs our decorator works on functions with any parameters.</p>"
   ]
  },
  {
   "cell_type": "code",
   "execution_count": 46,
   "metadata": {},
   "outputs": [
    {
     "name": "stdout",
     "output_type": "stream",
     "text": [
      "running add\n",
      "running add\n",
      "15\n"
     ]
    }
   ],
   "source": [
    "def ntimes(n):\n",
    "    def inner(f):\n",
    "        def wrapper(*args, **kwargs):\n",
    "            for _ in range(n):\n",
    "                print('running {.__name__}'.format(f))\n",
    "                rv = f(*args, **kwargs)\n",
    "            return rv\n",
    "        return wrapper\n",
    "    return inner\n",
    "\n",
    "@ntimes(2)\n",
    "def add(x, y=10):\n",
    "    return x + y\n",
    "\n",
    "print(add(5))"
   ]
  },
  {
   "cell_type": "markdown",
   "metadata": {},
   "source": [
    "<p>This is called <b>higher-order decorators</b>. It is a fairly simplistic extension of the idea \"a function can return a function\". There is a concept \"closure object duality\".</p>"
   ]
  },
  {
   "cell_type": "code",
   "execution_count": null,
   "metadata": {},
   "outputs": [],
   "source": []
  }
 ],
 "metadata": {
  "kernelspec": {
   "display_name": "Python 3",
   "language": "python",
   "name": "python3"
  },
  "language_info": {
   "codemirror_mode": {
    "name": "ipython",
    "version": 3
   },
   "file_extension": ".py",
   "mimetype": "text/x-python",
   "name": "python",
   "nbconvert_exporter": "python",
   "pygments_lexer": "ipython3",
   "version": "3.6.7"
  }
 },
 "nbformat": 4,
 "nbformat_minor": 2
}
