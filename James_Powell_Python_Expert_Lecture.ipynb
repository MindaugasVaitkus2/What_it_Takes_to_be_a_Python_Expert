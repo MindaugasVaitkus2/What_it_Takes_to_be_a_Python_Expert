{
 "cells": [
  {
   "cell_type": "markdown",
   "metadata": {},
   "source": [
    "<h1>James Powell on Core Concepts of Python</h1>"
   ]
  },
  {
   "cell_type": "markdown",
   "metadata": {},
   "source": [
    "<h2>The protocol view of python</h2>\n",
    "<p>If you look at the object orientation of python there are three core patterns we have to understand. One of them is protocol view of python. </p>"
   ]
  },
  {
   "cell_type": "code",
   "execution_count": null,
   "metadata": {},
   "outputs": [],
   "source": [
    "class Polynomial:\n",
    "    pass\n",
    "\n",
    "p1 = Polynomial()\n",
    "p2 = Polynomial()\n",
    "p1.coeffs = 1, 2, 3 #x**2 + 2x + 3\n",
    "p2.coeffs = 3, 4, 3 #x**2 + 4x + 3"
   ]
  },
  {
   "cell_type": "markdown",
   "metadata": {},
   "source": [
    "<h6>__init__</h6>\n",
    "<p>Why write in 4 lines when we can write it in two lines? Two lines will do.<p/>"
   ]
  },
  {
   "cell_type": "code",
   "execution_count": null,
   "metadata": {},
   "outputs": [],
   "source": [
    "class Polynomial:\n",
    "    def __init__(self, *coeffs):\n",
    "        self.coeffs = coeffs\n",
    "\n",
    "\n",
    "p1 = Polynomial(1, 2, 3)\n",
    "p2 = Polynomial(3, 4, 3)\n",
    "\n",
    "print(p1)\n",
    "print(p2)"
   ]
  },
  {
   "cell_type": "markdown",
   "metadata": {},
   "source": [
    "<h6>__repr__</h6>\n",
    "<p>That looks ugly because we are missing the method that corresponds to what happens when we call top level repr function to figure out the representation of our python object.<p/>"
   ]
  },
  {
   "cell_type": "code",
   "execution_count": null,
   "metadata": {},
   "outputs": [],
   "source": [
    "class Polynomial:\n",
    "    def __init__(self, *coeffs):\n",
    "        self.coeffs = coeffs\n",
    "        \n",
    "    def __repr__(self):\n",
    "        return 'Polynomial(*{!r})'.format(self.coeffs)\n",
    "\n",
    "\n",
    "p1 = Polynomial(1, 2, 3)\n",
    "p2 = Polynomial(3, 4, 3)\n",
    "\n",
    "print(p1)\n",
    "print(p2)"
   ]
  },
  {
   "cell_type": "markdown",
   "metadata": {},
   "source": [
    "<h6>__add__</h6>\n",
    "<p>What about adding polynomial objects together?<p/>"
   ]
  },
  {
   "cell_type": "code",
   "execution_count": null,
   "metadata": {},
   "outputs": [],
   "source": [
    "class Polynomial:\n",
    "    def __init__(self, *coeffs):\n",
    "        self.coeffs = coeffs\n",
    "        \n",
    "    def __repr__(self):\n",
    "        return 'Polynomial(*{!r})'.format(self.coeffs)\n",
    "    \n",
    "    def __add__(self, other):\n",
    "        return Polynomial(*(x + y for x, y in zip(self.coeffs, other.coeffs)))\n",
    "\n",
    "\n",
    "p1 = Polynomial(1, 2, 3)\n",
    "p2 = Polynomial(3, 4, 3)\n",
    "\n",
    "print(p1)\n",
    "print(p2)\n",
    "\n",
    "print(p1 + p2)"
   ]
  },
  {
   "cell_type": "markdown",
   "metadata": {},
   "source": [
    "<h4>What pattern do we see?</h4>\n",
    "<p>If we have some behaviour we want to implement --> we write some __function__ to implement it. This functions are called dunder methods. </p> \n",
    "<p>It has also an abhorrent name <i>data model methods</i>. Python documentation contains a whole list of this methods. Whenever we want to implement some behaviour in python we want to tell python \"for this arbitary object do this behaviour, like give the printable representation for this object, perform an addition of this objects.\"</p>\n",
    "<p>The pattern is: there is a top-level function or some top-level syntax and there is a corresponding dunder function. The exact arguments that the underscore function takes are determined by python documentation. The default names of the arguments can be picked up by the documentation also. </p>\n",
    "<p>But there is something more fundamental than this. If we want to implement the summation of two objects x + y --> we implement __add__, if we want to define how we instantiate an object --> we implement __init__. </p>\n",
    "<h6>__len__</h6>"
   ]
  },
  {
   "cell_type": "markdown",
   "metadata": {},
   "source": [
    "<p>What a size of a polynomial might me? The highest degree of the polynomial. We will implement __len__ function to tell us the size of the polynomial</p>"
   ]
  },
  {
   "cell_type": "code",
   "execution_count": null,
   "metadata": {},
   "outputs": [],
   "source": [
    "class Polynomial:\n",
    "    def __init__(self, *coeffs):\n",
    "        self.coeffs = coeffs\n",
    "        \n",
    "    def __repr__(self):\n",
    "        return 'Polynomial(*{!r})'.format(self.coeffs)\n",
    "    \n",
    "    def __add__(self, other):\n",
    "        return Polynomial(*(x + y for x, y in zip(self.coeffs, other.coeffs)))\n",
    "    \n",
    "    def __len__(self):\n",
    "        return len(self.coeffs)\n",
    "\n",
    "\n",
    "p1 = Polynomial(1, 2, 3)\n",
    "p2 = Polynomial(3, 4, 3)\n",
    "\n",
    "print(len(p1))"
   ]
  },
  {
   "cell_type": "markdown",
   "metadata": {},
   "source": [
    "<h4>The pattern as we see is as follows:</h4>\n",
    "<p>The python data model is a means by which we can implement protocols. Those protocols have some abstract meaning depending on the object itself. In the case of a polynomial summation means whatever it ment in the math class.</p>\n",
    "<p>To get its printable representation we use __repr__. Printable representation is typically whatever string we have to type in the console to get a new instance of that object.</p>\n",
    "<p>In each case that protocol exists, there is some underscore method that implements this protocol, there is some top-level function like len or top-level syntax like + sign that allows us to invoke that protocol and it all fits together.</p>\n",
    "<p>When we implement smth like __len__ we do that by delegating back to the protocol itself. __len__ is implemented in terms of len() being called on a constituent object. __add__ is implemented by adding up some components. </p>\n",
    "<p>If we have some top-level syntax like parentheses that come after the object x(), we call it the __call__ protocol. </p>"
   ]
  },
  {
   "cell_type": "code",
   "execution_count": null,
   "metadata": {},
   "outputs": [],
   "source": [
    "class Polynomial:\n",
    "    def __init__(self, *coeffs):\n",
    "        self.coeffs = coeffs\n",
    "        \n",
    "    def __repr__(self):\n",
    "        return 'Polynomial(*{!r})'.format(self.coeffs)\n",
    "    \n",
    "    def __add__(self, other):\n",
    "        return Polynomial(*(x + y for x, y in zip(self.coeffs, other.coeffs)))\n",
    "    \n",
    "    def __len__(self):\n",
    "        return len(self.coeffs)\n",
    "    \n",
    "    def __call__(self):\n",
    "        #no idea what should polynomial do\n",
    "        pass\n",
    "\n",
    "\n",
    "p1 = Polynomial(1, 2, 3)\n",
    "p2 = Polynomial(3, 4, 3)\n"
   ]
  },
  {
   "cell_type": "markdown",
   "metadata": {},
   "source": [
    "<h2>Metaclasses</h2>\n",
    "<p>It is very clear and very obvious for why and when you use it and it is someting you can kind of shelf away in your mind as \"oh, this feature does this, this is why I want to use it, i don't have to use it all the time\". </p>\n",
    "<p>Let's imagine there are two teams on the project and one team writes libraty code and the other team writes user code. People on the user side cant touch library code.</p>"
   ]
  },
  {
   "cell_type": "code",
   "execution_count": null,
   "metadata": {},
   "outputs": [],
   "source": [
    "#library.py\n",
    "\n",
    "class Base:\n",
    "    def foo(self):\n",
    "        return 'foo'"
   ]
  },
  {
   "cell_type": "code",
   "execution_count": null,
   "metadata": {},
   "outputs": [],
   "source": [
    "#user.py\n",
    "from library import Base\n",
    "\n",
    "class Derived(Base):\n",
    "    def bar(self):\n",
    "        return self.foo()\n",
    "    \n",
    "#this code can break if there is no foo method. "
   ]
  },
  {
   "cell_type": "markdown",
   "metadata": {},
   "source": [
    "<p>What we can do to figure out our code brakes before the runtime? We can write a test for example. We will see that the code fails some time before it hits the runtime production environment.</p> \n",
    "<p>But maybe there is one thing that we can add to this code so it fails before it hits the runtime production environment?</p>\n",
    "<p>We can add assert and see if the Base has no foo method before we even came up to derived class.</p>"
   ]
  },
  {
   "cell_type": "code",
   "execution_count": null,
   "metadata": {},
   "outputs": [],
   "source": [
    "#user.py\n",
    "from library import Base\n",
    "\n",
    "assert hasattr(Base, 'foo'), \"You broke it!\"\n",
    "\n",
    "class Derived(Base):\n",
    "    def bar(self):\n",
    "        return self.foo()"
   ]
  },
  {
   "cell_type": "markdown",
   "metadata": {},
   "source": [
    "<p>So now we have an early warning tha this has broken. And what we are trying to do here is enforce a constraint. The user level enforces a constraint on a library level, in other words, the Derived class is enforcing a constraint on a base class. The Derived class says \"the Base class should have this characteristics in order for me to run and be happy. If it does not foo method implemented i will fail.\"</p>\n",
    "<br>\n",
    "<br>\n",
    "<p>Let's say instead, we are working on a library side and we don't want people to screw code on a user side of the project. And we can't change anything on the user side of the code. And how do we make sure that the code will be implemented on the user side? There are three answers to this. One is metaclasses.</p>"
   ]
  },
  {
   "cell_type": "code",
   "execution_count": null,
   "metadata": {},
   "outputs": [],
   "source": [
    "#library2.py\n",
    "\n",
    "class Base:\n",
    "    def foo(self):\n",
    "        return self.bar()\n",
    "\n",
    "#we write this Base class under the assumption that developer in user department\n",
    "#will implement bar() method, because if they don't, everything falls apart.\n",
    "\n",
    "#we can also place try catch but that will only catch error during runtime."
   ]
  },
  {
   "cell_type": "code",
   "execution_count": null,
   "metadata": {},
   "outputs": [],
   "source": [
    "#user.py\n",
    "from library2 import Base\n",
    "\n",
    "class Derived(Base):\n",
    "    def bar(self):\n",
    "        return 'bar'"
   ]
  },
  {
   "cell_type": "markdown",
   "metadata": {},
   "source": [
    "<p>The reason we can call python a protocol oriented language is not just because the python data model is protocol oriented, but the entire python language itself has a notion of hooks and protocols and safety valves within it.</p>\n",
    "<p>Python code runs from top to bottom linearly and almost every statement except the two of them are actually executable rutime code. In C++ or Java a class statement is not an executable code. In python it is.</p>"
   ]
  },
  {
   "cell_type": "code",
   "execution_count": null,
   "metadata": {},
   "outputs": [],
   "source": [
    "def _():\n",
    "    class Base:\n",
    "        pass\n",
    "\n",
    "from dis import dis\n",
    "dis(_)"
   ]
  },
  {
   "cell_type": "markdown",
   "metadata": {},
   "source": [
    "<p><b>LOAD_BUILD_CLASS</b> is actual executable runtime instruction in the python enterpreteur for creating a class. There typycally in python tends to be a correspondence between some top-level syntax or function and some underscore method that implements that function. There happens to be some top-level mechanism here for building a class (it is not explicitly a function). It turns out in python there is a hook, there is an underscore function that allows us to do things with the process of building classes.</p>"
   ]
  },
  {
   "cell_type": "code",
   "execution_count": null,
   "metadata": {},
   "outputs": [],
   "source": [
    "def _():\n",
    "    class Base:\n",
    "        pass\n",
    "\n",
    "    \n",
    "#there is a function __build_class in python. It sits on a module builtins\n",
    "old_bc = __build_class__\n",
    "def my_bc(*a, **kw):\n",
    "    print('my buildclass -->', a, kw)\n",
    "    return old_bc(*a, **kw)\n",
    "#we capture the original build class, write our own build clas\n",
    "\n",
    "import builtins\n",
    "#we make import from builtins ans swap out our classes\n",
    "#so we are patching creating classes in python\n",
    "builtins.__build_class__ = my_bc"
   ]
  },
  {
   "cell_type": "code",
   "execution_count": null,
   "metadata": {},
   "outputs": [],
   "source": [
    "#user.py\n",
    "from library2 import Base\n",
    "\n",
    "class Derived(Base):\n",
    "    def bar(self):\n",
    "        return 'bar'"
   ]
  },
  {
   "cell_type": "markdown",
   "metadata": {},
   "source": [
    "<p>So we can actually catch the building of the class! We passed a function, the name of the class and the base class</p>\n",
    "<p>So we can add our assert into the building class. </p>"
   ]
  },
  {
   "cell_type": "code",
   "execution_count": null,
   "metadata": {},
   "outputs": [],
   "source": [
    "class Base:\n",
    "    def foo(self):\n",
    "        return self.bar\n",
    "\n",
    "    \n",
    "#there is a function __build_class in python. It sits on a module builtins\n",
    "old_bc = __build_class__\n",
    "def my_bc(fun, name, base=None, **kw):\n",
    "    if base is Base:\n",
    "        print('check if bar method defined')\n",
    "    if base is not None:\n",
    "        old_bc(fun, name, base, **kw)\n",
    "    return old_bc(fun, name, **kw)\n",
    "#we capture the original build class, write our own build clas\n",
    "\n",
    "import builtins\n",
    "#we make import from builtins ans swap out our classes\n",
    "#so we are patching creating classes in python\n",
    "builtins.__build_class__ = my_bc"
   ]
  },
  {
   "cell_type": "code",
   "execution_count": 1,
   "metadata": {},
   "outputs": [
    {
     "name": "stdout",
     "output_type": "stream",
     "text": [
      "check if bar method defined\n"
     ]
    }
   ],
   "source": [
    "#user.py\n",
    "from library2 import Base\n",
    "\n",
    "class Derived(Base):\n",
    "    def bar(self):\n",
    "        return 'bar'"
   ]
  },
  {
   "cell_type": "markdown",
   "metadata": {},
   "source": [
    "<p>So protocol orientation is quite a fundamental piece of python. Almost everything python does in an execution context (like creating functions, importing modules, etc.) we can find a hook to get into that and, for example, add a check  for existing the module.</p>"
   ]
  },
  {
   "cell_type": "code",
   "execution_count": null,
   "metadata": {},
   "outputs": [],
   "source": []
  }
 ],
 "metadata": {
  "kernelspec": {
   "display_name": "Python 3",
   "language": "python",
   "name": "python3"
  },
  "language_info": {
   "codemirror_mode": {
    "name": "ipython",
    "version": 3
   },
   "file_extension": ".py",
   "mimetype": "text/x-python",
   "name": "python",
   "nbconvert_exporter": "python",
   "pygments_lexer": "ipython3",
   "version": "3.6.4"
  }
 },
 "nbformat": 4,
 "nbformat_minor": 2
}
