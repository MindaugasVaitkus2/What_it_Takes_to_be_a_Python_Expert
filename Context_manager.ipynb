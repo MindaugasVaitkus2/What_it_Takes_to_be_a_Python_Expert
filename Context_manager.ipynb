{
 "cells": [
  {
   "cell_type": "markdown",
   "metadata": {},
   "source": [
    "<h1>Context manager</h1>\n",
    "<p>Context managers are very simple metaphore and common metaphore we see all over the place.</p>"
   ]
  },
  {
   "cell_type": "markdown",
   "metadata": {},
   "source": [
    "<p>The basic context manager looks like this:</p>"
   ]
  },
  {
   "cell_type": "code",
   "execution_count": null,
   "metadata": {},
   "outputs": [],
   "source": [
    "# with open('ctx.py') as f:\n",
    "#     pass"
   ]
  },
  {
   "cell_type": "markdown",
   "metadata": {},
   "source": [
    "<p>The reason for using context manager here is because there is corresponding setup and teardown. If we open the file we got to close the file. For example on windows if you don't close the file you might not be able to delete it later. This is especially true if the file is backed by some storage where it is not necessarily automatically flushed. If we open file and write to it we want to make sure there is a flush to disk because we don't want to loose the data.</p>\n",
    "<p><b>Fundamentally there is the idea here that we have some setup action and teardown action and we want to match them together.</b></p>"
   ]
  },
  {
   "cell_type": "markdown",
   "metadata": {},
   "source": [
    "<p>Here is an example of context manager wrapping some database operations in SQLite (the connect method is the context manager itself):</p>"
   ]
  },
  {
   "cell_type": "code",
   "execution_count": 11,
   "metadata": {},
   "outputs": [
    {
     "name": "stdout",
     "output_type": "stream",
     "text": [
      "(1, 1)\n",
      "(1, 2)\n",
      "(2, 1)\n",
      "(5,)\n"
     ]
    }
   ],
   "source": [
    "from sqlite3 import connect\n",
    "\n",
    "with connect('test.db') as conn:\n",
    "    # we connect to some database and have some cursor on that database\n",
    "    cur = conn.cursor()\n",
    "    cur.execute('create table points (x int, y int)')\n",
    "    cur.execute('insert into points (x, y) values(1, 1)')\n",
    "    cur.execute('insert into points (x, y) values(1, 2)')\n",
    "    cur.execute('insert into points (x, y) values(2, 1)')\n",
    "    for row in cur. execute('select x, y from points'):\n",
    "        print(row)\n",
    "    for row in cur. execute('select sum (x * y) from points'):\n",
    "        print(row)\n",
    "    cur.execute('drop table points')"
   ]
  },
  {
   "cell_type": "markdown",
   "metadata": {},
   "source": [
    "<p>We created a table and we dropped a table. And let's assume we don't have transactional support and we have to be in charge of this paring (create and drop). We want to make sure they are both get done irrespective of some error that might pop in the middle.</p>\n",
    "<p>We created a table and we dropped a table. And let's assume we don't have transactional support and we have to be in charge of this paring (create and drop). We want to make sure they are both get done irrespective of some error that might pop in the middle.</p>\n",
    "<p><b>There is always in python some top-level syntax or some function and some underscore method that implements it.</b></p>"
   ]
  },
  {
   "cell_type": "code",
   "execution_count": 12,
   "metadata": {},
   "outputs": [],
   "source": [
    "# with ctx() as x:\n",
    "#     pass\n",
    "\n",
    "# x = ctx().__enter__()\n",
    "# try:\n",
    "#     pass\n",
    "# finally:\n",
    "#     x.__exit__"
   ]
  },
  {
   "cell_type": "markdown",
   "metadata": {},
   "source": [
    "<p>So that is how we write a context manager. We implement __enter__ and __exit__. There are some arguments that should be passed into it. We will create tamptable context manager.<p>"
   ]
  },
  {
   "cell_type": "code",
   "execution_count": 18,
   "metadata": {},
   "outputs": [],
   "source": [
    "class temptable:\n",
    "    # in needs to be initialized with a cursor\n",
    "    def __init__(self, cur):\n",
    "        self.cur = cur\n",
    "    def __enter__(self):\n",
    "        print('__enter__')\n",
    "        # the enter just executes one statement\n",
    "        self.cur.execute('create table points(x int, y int)')\n",
    "    def __exit__(self, *args):\n",
    "        print('__exit__')\n",
    "         # the exit just executes one statement\n",
    "        self.cur.execute('drop table points')"
   ]
  },
  {
   "cell_type": "markdown",
   "metadata": {},
   "source": [
    "<p>And thats it.</p>"
   ]
  },
  {
   "cell_type": "code",
   "execution_count": 19,
   "metadata": {},
   "outputs": [
    {
     "name": "stdout",
     "output_type": "stream",
     "text": [
      "__enter__\n",
      "(1, 1)\n",
      "(1, 2)\n",
      "(2, 1)\n",
      "(5,)\n",
      "__exit__\n"
     ]
    }
   ],
   "source": [
    "with connect('test.db') as conn:\n",
    "    # we connect to some database and have some cursor on that database\n",
    "    cur = conn.cursor()\n",
    "    with temptable(cur):\n",
    "        cur.execute('insert into points (x, y) values(1, 1)')\n",
    "        cur.execute('insert into points (x, y) values(1, 2)')\n",
    "        cur.execute('insert into points (x, y) values(2, 1)')\n",
    "        for row in cur. execute('select x, y from points'):\n",
    "            print(row)\n",
    "        for row in cur. execute('select sum (x * y) from points'):\n",
    "            print(row)\n"
   ]
  },
  {
   "cell_type": "markdown",
   "metadata": {},
   "source": [
    "<p>That code works every time because we destroy the table every time.</p>"
   ]
  },
  {
   "cell_type": "markdown",
   "metadata": {},
   "source": [
    "<p>So content managers have very clear and unambigious metaphore behind them. But what if we want to exit the call before the enter? We shouldn't, the enter should always be called before the exit, so we see some sequencing, so that offers us a generator. </p> "
   ]
  },
  {
   "cell_type": "code",
   "execution_count": 24,
   "metadata": {},
   "outputs": [
    {
     "name": "stdout",
     "output_type": "stream",
     "text": [
      "__enter__\n",
      "created table\n",
      "(1, 1)\n",
      "(1, 2)\n",
      "(2, 1)\n",
      "(5,)\n",
      "dropped table\n",
      "__exit__\n"
     ]
    }
   ],
   "source": [
    "def temptable(cur):\n",
    "    cur.execute('create table points(x int, y int)')\n",
    "    print('created table')\n",
    "    yield\n",
    "    cur.execute('drop table points')\n",
    "    print('dropped table')\n",
    "    \n",
    "class contextmanager:\n",
    "    def __init__(self, cur):\n",
    "        self.cur = cur\n",
    "    def __enter__(self):\n",
    "        self.gen = temptable(self.cur)\n",
    "        print('__enter__')\n",
    "        next(self.gen)\n",
    "    def __exit__(self, *args):\n",
    "        next(self.gen, None)\n",
    "        print('__exit__')\n",
    "        \n",
    "with connect('test.db') as conn:\n",
    "    cur = conn.cursor()\n",
    "    with contextmanager(cur):\n",
    "        cur.execute('insert into points (x, y) values(1, 1)')\n",
    "        cur.execute('insert into points (x, y) values(1, 2)')\n",
    "        cur.execute('insert into points (x, y) values(2, 1)')\n",
    "        for row in cur. execute('select x, y from points'):\n",
    "            print(row)\n",
    "        for row in cur. execute('select sum (x * y) from points'):\n",
    "            print(row)\n",
    "        "
   ]
  },
  {
   "cell_type": "code",
   "execution_count": null,
   "metadata": {},
   "outputs": [],
   "source": []
  }
 ],
 "metadata": {
  "kernelspec": {
   "display_name": "Python 3",
   "language": "python",
   "name": "python3"
  },
  "language_info": {
   "codemirror_mode": {
    "name": "ipython",
    "version": 3
   },
   "file_extension": ".py",
   "mimetype": "text/x-python",
   "name": "python",
   "nbconvert_exporter": "python",
   "pygments_lexer": "ipython3",
   "version": "3.6.7"
  }
 },
 "nbformat": 4,
 "nbformat_minor": 2
}
