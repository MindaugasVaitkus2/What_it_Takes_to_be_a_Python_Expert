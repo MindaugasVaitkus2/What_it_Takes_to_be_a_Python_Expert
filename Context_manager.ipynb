{
 "cells": [
  {
   "cell_type": "markdown",
   "metadata": {},
   "source": [
    "<h1>Context managers</h1>\n",
    "<p>Context managers are very simple metaphore and common metaphore we see all over the place.</p>"
   ]
  },
  {
   "cell_type": "markdown",
   "metadata": {},
   "source": [
    "<p>The basic context manager looks like this:</p>"
   ]
  },
  {
   "cell_type": "code",
   "execution_count": null,
   "metadata": {},
   "outputs": [],
   "source": [
    "# with open('ctx.py') as f:\n",
    "#     pass"
   ]
  },
  {
   "cell_type": "markdown",
   "metadata": {},
   "source": [
    "<p>The reason for using context manager here is because there is corresponding setup and teardown. If we open the file we got to close the file. For example on windows if you don't close the file you might not be able to delete it later. This is especially true if the file is backed by some storage where it is not necessarily automatically flushed. If we open file and write to it we want to make sure there is a flush to disk because we don't want to loose the data.</p>\n",
    "<p><b>Fundamentally there is the idea here that we have some setup action and teardown action and we want to match them together.</b></p>"
   ]
  },
  {
   "cell_type": "markdown",
   "metadata": {},
   "source": [
    "<p>Here is an example of context manager wrapping some database operations in SQLite (the connect method is the context manager itself):</p>"
   ]
  },
  {
   "cell_type": "code",
   "execution_count": 11,
   "metadata": {},
   "outputs": [
    {
     "name": "stdout",
     "output_type": "stream",
     "text": [
      "(1, 1)\n",
      "(1, 2)\n",
      "(2, 1)\n",
      "(5,)\n"
     ]
    }
   ],
   "source": [
    "from sqlite3 import connect\n",
    "\n",
    "with connect('test.db') as conn:\n",
    "    # we connect to some database and have some cursor on that database\n",
    "    cur = conn.cursor()\n",
    "    cur.execute('create table points (x int, y int)')\n",
    "    cur.execute('insert into points (x, y) values(1, 1)')\n",
    "    cur.execute('insert into points (x, y) values(1, 2)')\n",
    "    cur.execute('insert into points (x, y) values(2, 1)')\n",
    "    for row in cur. execute('select x, y from points'):\n",
    "        print(row)\n",
    "    for row in cur. execute('select sum (x * y) from points'):\n",
    "        print(row)\n",
    "    cur.execute('drop table points')"
   ]
  },
  {
   "cell_type": "markdown",
   "metadata": {},
   "source": [
    "<p>We created a table and we dropped a table. And let's assume we don't have transactional support and we have to be in charge of this paring (create and drop). We want to make sure they are both get done irrespective of some error that might pop in the middle.</p>\n",
    "<p>We created a table and we dropped a table. And let's assume we don't have transactional support and we have to be in charge of this paring (create and drop). We want to make sure they are both get done irrespective of some error that might pop in the middle.</p>\n",
    "<p><b>There is always in python some top-level syntax or some function and some underscore method that implements it.</b></p>"
   ]
  },
  {
   "cell_type": "code",
   "execution_count": 12,
   "metadata": {},
   "outputs": [],
   "source": [
    "# with ctx() as x:\n",
    "#     pass\n",
    "\n",
    "# x = ctx().__enter__()\n",
    "# try:\n",
    "#     pass\n",
    "# finally:\n",
    "#     x.__exit__"
   ]
  },
  {
   "cell_type": "markdown",
   "metadata": {},
   "source": [
    "<p>So that is how we write a context manager. We implement __enter__ and __exit__. There are some arguments that should be passed into it. We will create tamptable context manager.<p>"
   ]
  },
  {
   "cell_type": "code",
   "execution_count": 18,
   "metadata": {},
   "outputs": [],
   "source": [
    "class temptable:\n",
    "    # in needs to be initialized with a cursor\n",
    "    def __init__(self, cur):\n",
    "        self.cur = cur\n",
    "    def __enter__(self):\n",
    "        print('__enter__')\n",
    "        # the enter just executes one statement\n",
    "        self.cur.execute('create table points(x int, y int)')\n",
    "    def __exit__(self, *args):\n",
    "        print('__exit__')\n",
    "         # the exit just executes one statement\n",
    "        self.cur.execute('drop table points')"
   ]
  },
  {
   "cell_type": "markdown",
   "metadata": {},
   "source": [
    "<p>And thats it.</p>"
   ]
  },
  {
   "cell_type": "code",
   "execution_count": 19,
   "metadata": {},
   "outputs": [
    {
     "name": "stdout",
     "output_type": "stream",
     "text": [
      "__enter__\n",
      "(1, 1)\n",
      "(1, 2)\n",
      "(2, 1)\n",
      "(5,)\n",
      "__exit__\n"
     ]
    }
   ],
   "source": [
    "with connect('test.db') as conn:\n",
    "    # we connect to some database and have some cursor on that database\n",
    "    cur = conn.cursor()\n",
    "    with temptable(cur):\n",
    "        cur.execute('insert into points (x, y) values(1, 1)')\n",
    "        cur.execute('insert into points (x, y) values(1, 2)')\n",
    "        cur.execute('insert into points (x, y) values(2, 1)')\n",
    "        for row in cur. execute('select x, y from points'):\n",
    "            print(row)\n",
    "        for row in cur. execute('select sum (x * y) from points'):\n",
    "            print(row)\n"
   ]
  },
  {
   "cell_type": "markdown",
   "metadata": {},
   "source": [
    "<p>That code works every time because we destroy the table every time.</p>"
   ]
  },
  {
   "cell_type": "markdown",
   "metadata": {},
   "source": [
    "<p>So content managers have very clear and unambigious metaphore behind them. But what if we want to exit the call before the enter? We shouldn't, the enter should always be called before the exit, so we see some sequencing, so that offers us a generator. </p> "
   ]
  },
  {
   "cell_type": "code",
   "execution_count": 24,
   "metadata": {},
   "outputs": [
    {
     "name": "stdout",
     "output_type": "stream",
     "text": [
      "__enter__\n",
      "created table\n",
      "(1, 1)\n",
      "(1, 2)\n",
      "(2, 1)\n",
      "(5,)\n",
      "dropped table\n",
      "__exit__\n"
     ]
    }
   ],
   "source": [
    "def temptable(cur):\n",
    "    cur.execute('create table points(x int, y int)')\n",
    "    print('created table')\n",
    "    yield\n",
    "    cur.execute('drop table points')\n",
    "    print('dropped table')\n",
    "    \n",
    "class contextmanager:\n",
    "    def __init__(self, cur):\n",
    "        self.cur = cur\n",
    "    def __enter__(self):\n",
    "        self.gen = temptable(self.cur)\n",
    "        print('__enter__')\n",
    "        next(self.gen)\n",
    "    def __exit__(self, *args):\n",
    "        next(self.gen, None)\n",
    "        print('__exit__')\n",
    "        \n",
    "with connect('test.db') as conn:\n",
    "    cur = conn.cursor()\n",
    "    with contextmanager(cur):\n",
    "        cur.execute('insert into points (x, y) values(1, 1)')\n",
    "        cur.execute('insert into points (x, y) values(1, 2)')\n",
    "        cur.execute('insert into points (x, y) values(2, 1)')\n",
    "        for row in cur. execute('select x, y from points'):\n",
    "            print(row)\n",
    "        for row in cur. execute('select sum (x * y) from points'):\n",
    "            print(row)        "
   ]
  },
  {
   "cell_type": "markdown",
   "metadata": {},
   "source": [
    "<p>We can generalize it.</p> "
   ]
  },
  {
   "cell_type": "code",
   "execution_count": 26,
   "metadata": {},
   "outputs": [
    {
     "name": "stdout",
     "output_type": "stream",
     "text": [
      "__enter__\n",
      "created table\n",
      "(1, 1)\n",
      "(1, 2)\n",
      "(2, 1)\n",
      "(5,)\n",
      "dropped table\n",
      "__exit__\n"
     ]
    }
   ],
   "source": [
    "def temptable(cur):\n",
    "    cur.execute('create table points(x int, y int)')\n",
    "    print('created table')\n",
    "    yield\n",
    "    cur.execute('drop table points')\n",
    "    print('dropped table')\n",
    "    \n",
    "class contextmanager:\n",
    "    def __init__(self, gen):\n",
    "        self.gen = gen\n",
    "    def __call__(self, *args, **kwargs):\n",
    "        self.args, self.kwargs = args, kwargs\n",
    "        return self\n",
    "    def __enter__(self):\n",
    "        self.gen_inst = self.gen(*self.args, **self.kwargs)\n",
    "        print('__enter__')\n",
    "        next(self.gen_inst)\n",
    "    def __exit__(self, *args):\n",
    "        next(self.gen_inst, None)\n",
    "        print('__exit__')\n",
    "        \n",
    "with connect('test.db') as conn:\n",
    "    cur = conn.cursor()\n",
    "    # this line looks ugly\n",
    "    with contextmanager(temptable)(cur):\n",
    "        cur.execute('insert into points (x, y) values(1, 1)')\n",
    "        cur.execute('insert into points (x, y) values(1, 2)')\n",
    "        cur.execute('insert into points (x, y) values(2, 1)')\n",
    "        for row in cur. execute('select x, y from points'):\n",
    "            print(row)\n",
    "        for row in cur. execute('select sum (x * y) from points'):\n",
    "            print(row)    "
   ]
  },
  {
   "cell_type": "code",
   "execution_count": 28,
   "metadata": {},
   "outputs": [
    {
     "name": "stdout",
     "output_type": "stream",
     "text": [
      "__enter__\n",
      "created table\n",
      "(1, 1)\n",
      "(1, 2)\n",
      "(2, 1)\n",
      "(5,)\n",
      "dropped table\n",
      "__exit__\n"
     ]
    }
   ],
   "source": [
    "class contextmanager:\n",
    "    def __init__(self, gen):\n",
    "        self.gen = gen\n",
    "    def __call__(self, *args, **kwargs):\n",
    "        self.args, self.kwargs = args, kwargs\n",
    "        return self\n",
    "    def __enter__(self):\n",
    "        self.gen_inst = self.gen(*self.args, **self.kwargs)\n",
    "        print('__enter__')\n",
    "        next(self.gen_inst)\n",
    "    def __exit__(self, *args):\n",
    "        next(self.gen_inst, None)\n",
    "        print('__exit__')\n",
    "        \n",
    "def temptable(cur):\n",
    "    cur.execute('create table points(x int, y int)')\n",
    "    print('created table')\n",
    "    yield\n",
    "    cur.execute('drop table points')\n",
    "    print('dropped table')\n",
    "\n",
    "# wee took our generator and wrapped in some object \n",
    "temptable = contextmanager(temptable)\n",
    "    \n",
    "        \n",
    "with connect('test.db') as conn:\n",
    "    cur = conn.cursor()\n",
    "    # this line looks ugly\n",
    "    with temptable(cur):\n",
    "        cur.execute('insert into points (x, y) values(1, 1)')\n",
    "        cur.execute('insert into points (x, y) values(1, 2)')\n",
    "        cur.execute('insert into points (x, y) values(2, 1)')\n",
    "        for row in cur. execute('select x, y from points'):\n",
    "            print(row)\n",
    "        for row in cur. execute('select sum (x * y) from points'):\n",
    "            print(row)    "
   ]
  },
  {
   "cell_type": "markdown",
   "metadata": {},
   "source": [
    "<p>But we just use the decorator syntax!</p>"
   ]
  },
  {
   "cell_type": "code",
   "execution_count": 30,
   "metadata": {},
   "outputs": [
    {
     "name": "stdout",
     "output_type": "stream",
     "text": [
      "__enter__\n",
      "created table\n",
      "(1, 1)\n",
      "(1, 2)\n",
      "(2, 1)\n",
      "(5,)\n",
      "dropped table\n",
      "__exit__\n"
     ]
    }
   ],
   "source": [
    "class contextmanager:\n",
    "    def __init__(self, gen):\n",
    "        self.gen = gen\n",
    "    def __call__(self, *args, **kwargs):\n",
    "        self.args, self.kwargs = args, kwargs\n",
    "        return self\n",
    "    def __enter__(self):\n",
    "        self.gen_inst = self.gen(*self.args, **self.kwargs)\n",
    "        print('__enter__')\n",
    "        next(self.gen_inst)\n",
    "    def __exit__(self, *args):\n",
    "        next(self.gen_inst, None)\n",
    "        print('__exit__')\n",
    "\n",
    "@contextmanager\n",
    "def temptable(cur):\n",
    "    cur.execute('create table points(x int, y int)')\n",
    "    print('created table')\n",
    "    yield\n",
    "    cur.execute('drop table points')\n",
    "    print('dropped table')\n",
    "        \n",
    "with connect('test.db') as conn:\n",
    "    cur = conn.cursor()\n",
    "    # this line looks ugly\n",
    "    with temptable(cur):\n",
    "        cur.execute('insert into points (x, y) values(1, 1)')\n",
    "        cur.execute('insert into points (x, y) values(1, 2)')\n",
    "        cur.execute('insert into points (x, y) values(2, 1)')\n",
    "        for row in cur. execute('select x, y from points'):\n",
    "            print(row)\n",
    "        for row in cur. execute('select sum (x * y) from points'):\n",
    "            print(row)    "
   ]
  },
  {
   "cell_type": "markdown",
   "metadata": {},
   "source": [
    "<p>It turns out that we don't have to write class contextmanager at all. It sits in the library <i>contextlib</i>.</p>"
   ]
  },
  {
   "cell_type": "code",
   "execution_count": 31,
   "metadata": {},
   "outputs": [
    {
     "name": "stdout",
     "output_type": "stream",
     "text": [
      "created table\n",
      "(1, 1)\n",
      "(1, 2)\n",
      "(2, 1)\n",
      "(5,)\n",
      "dropped table\n"
     ]
    }
   ],
   "source": [
    "from sqlite3 import connect\n",
    "from contextlib import contextmanager\n",
    "\n",
    "@contextmanager\n",
    "def temptable(cur):\n",
    "    cur.execute('create table points(x int, y int)')\n",
    "    print('created table')\n",
    "    yield\n",
    "    cur.execute('drop table points')\n",
    "    print('dropped table')\n",
    "        \n",
    "with connect('test.db') as conn:\n",
    "    cur = conn.cursor()\n",
    "    # this line looks ugly\n",
    "    with temptable(cur):\n",
    "        cur.execute('insert into points (x, y) values(1, 1)')\n",
    "        cur.execute('insert into points (x, y) values(1, 2)')\n",
    "        cur.execute('insert into points (x, y) values(2, 1)')\n",
    "        for row in cur. execute('select x, y from points'):\n",
    "            print(row)\n",
    "        for row in cur. execute('select sum (x * y) from points'):\n",
    "            print(row)    "
   ]
  },
  {
   "cell_type": "markdown",
   "metadata": {},
   "source": [
    "<p><b>@contextmanager is just a decorator that turns a generator into a context manager.</b></p> "
   ]
  },
  {
   "cell_type": "code",
   "execution_count": 32,
   "metadata": {},
   "outputs": [
    {
     "name": "stdout",
     "output_type": "stream",
     "text": [
      "(1, 1)\n",
      "(1, 2)\n",
      "(2, 1)\n",
      "(5,)\n"
     ]
    }
   ],
   "source": [
    "from sqlite3 import connect\n",
    "from contextlib import contextmanager\n",
    "\n",
    "@contextmanager\n",
    "def temptable(cur):\n",
    "    cur.execute('create table points(x int, y int)')\n",
    "    try:\n",
    "        yield\n",
    "    finally:\n",
    "        cur.execute('drop table points')\n",
    "\n",
    "        \n",
    "with connect('test.db') as conn:\n",
    "    cur = conn.cursor()\n",
    "    with temptable(cur):\n",
    "        cur.execute('insert into points (x, y) values(1, 1)')\n",
    "        cur.execute('insert into points (x, y) values(1, 2)')\n",
    "        cur.execute('insert into points (x, y) values(2, 1)')\n",
    "        for row in cur. execute('select x, y from points'):\n",
    "            print(row)\n",
    "        for row in cur. execute('select sum (x * y) from points'):\n",
    "            print(row)    "
   ]
  },
  {
   "cell_type": "markdown",
   "metadata": {},
   "source": [
    "<p>This is the example that combines three core features of python together: generators, context managers and decorators. And this three features with very clear conceptual meaning where each piece of its conceptual meaning fits together. A context manager is merely some piece of code that pairs setup and teardwon actions. A generator is merely some form of syntax that allows us to enforce sequencing and enterliving. And the context manager requires interliving because the setup is interlived with the actual action you do in the block. There is a sequencing where the teardown has to be done before the action, so it makes sense to have a generator here as well. Finally, we need something to adapt the generator to adapt this generator to the data model we looked at the very beginning. We have this underscore methods and we have to find some way to take how the generator works and fit it into those underscore methods. One of the things we need to do is take this generator object and wrap it in some function. That wrapping is core to how python works. However, there does happen to be a feature called decorators that allows us a nice and convinient syntax for doing that exactly.</p>"
   ]
  },
  {
   "cell_type": "markdown",
   "metadata": {},
   "source": [
    "<p><b>In python expert level code is a code that has a certain clarity to where and when the feature should be used, it is a code that does not waste a time of the person who writes this code Because they say to themselves 'I have this pattern, python has this mechanism, I fit them together and everything just seamlessly works. </b></p>"
   ]
  },
  {
   "cell_type": "markdown",
   "metadata": {},
   "source": [
    "<p><b>The syntax and implementation details are secondary to the core conceptual understanding of what this feature means. </b></p>"
   ]
  }
 ],
 "metadata": {
  "kernelspec": {
   "display_name": "Python 3",
   "language": "python",
   "name": "python3"
  },
  "language_info": {
   "codemirror_mode": {
    "name": "ipython",
    "version": 3
   },
   "file_extension": ".py",
   "mimetype": "text/x-python",
   "name": "python",
   "nbconvert_exporter": "python",
   "pygments_lexer": "ipython3",
   "version": "3.6.7"
  }
 },
 "nbformat": 4,
 "nbformat_minor": 2
}
