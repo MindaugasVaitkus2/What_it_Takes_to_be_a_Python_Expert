{
 "cells": [
  {
   "cell_type": "markdown",
   "metadata": {},
   "source": [
    "<h1>Decorators</h1>\n",
    "<p>Python is a live language. And function definition in python is actually a live thing.</p>"
   ]
  },
  {
   "cell_type": "code",
   "execution_count": 1,
   "metadata": {},
   "outputs": [
    {
     "name": "stdout",
     "output_type": "stream",
     "text": [
      "<function add at 0x7f1ad855c8c8>\n"
     ]
    }
   ],
   "source": [
    "def add(x, y=10):\n",
    "    return x + y\n",
    "\n",
    "print(add)"
   ]
  },
  {
   "cell_type": "markdown",
   "metadata": {},
   "source": [
    "<p>Python interpreter tells where actually in memory this function exists. And this function is an object, so we can ask all sorts of things like what is name of it.</p>"
   ]
  },
  {
   "cell_type": "code",
   "execution_count": 2,
   "metadata": {},
   "outputs": [
    {
     "name": "stdout",
     "output_type": "stream",
     "text": [
      "add\n"
     ]
    }
   ],
   "source": [
    "print(add.__name__)"
   ]
  },
  {
   "cell_type": "code",
   "execution_count": 3,
   "metadata": {},
   "outputs": [
    {
     "name": "stdout",
     "output_type": "stream",
     "text": [
      "__main__\n"
     ]
    }
   ],
   "source": [
    "print(add.__module__)"
   ]
  },
  {
   "cell_type": "code",
   "execution_count": 4,
   "metadata": {},
   "outputs": [
    {
     "name": "stdout",
     "output_type": "stream",
     "text": [
      "(10,)\n"
     ]
    }
   ],
   "source": [
    "print(add.__defaults__)"
   ]
  },
  {
   "cell_type": "code",
   "execution_count": 5,
   "metadata": {},
   "outputs": [
    {
     "name": "stdout",
     "output_type": "stream",
     "text": [
      "b'|\\x00|\\x01\\x17\\x00S\\x00'\n"
     ]
    }
   ],
   "source": [
    "# ouputs the actual byte code of our add function\n",
    "print(add.__code__.co_code)"
   ]
  },
  {
   "cell_type": "code",
   "execution_count": 6,
   "metadata": {},
   "outputs": [
    {
     "name": "stdout",
     "output_type": "stream",
     "text": [
      "2\n"
     ]
    }
   ],
   "source": [
    "# ouputs how many local variables does it have\n",
    "print(add.__code__.co_nlocals)"
   ]
  },
  {
   "cell_type": "code",
   "execution_count": 7,
   "metadata": {},
   "outputs": [
    {
     "name": "stdout",
     "output_type": "stream",
     "text": [
      "('x', 'y')\n"
     ]
    }
   ],
   "source": [
    "# outputs what are the variable names in this function\n",
    "print(add.__code__.co_varnames)"
   ]
  },
  {
   "cell_type": "markdown",
   "metadata": {},
   "source": [
    "<p>Every python structure that you interact with (whether it is an object or a function or a generator) has some runtime life. We can see in in memory and ask questions. </p>"
   ]
  },
  {
   "cell_type": "code",
   "execution_count": 9,
   "metadata": {},
   "outputs": [
    {
     "name": "stdout",
     "output_type": "stream",
     "text": [
      "def add(x, y=10):\n",
      "    return x + y\n",
      "\n"
     ]
    }
   ],
   "source": [
    "#inspect function can even give us a source code\n",
    "from inspect import getsource\n",
    "print(getsource(add))\n",
    "\n",
    "#and we there are many more useful functions"
   ]
  },
  {
   "cell_type": "markdown",
   "metadata": {},
   "source": [
    "<p>How do we measure the execution time of a function?</p>"
   ]
  },
  {
   "cell_type": "code",
   "execution_count": 11,
   "metadata": {},
   "outputs": [
    {
     "name": "stdout",
     "output_type": "stream",
     "text": [
      "add(10): 20\n",
      "time_take: 0.0002689361572265625\n"
     ]
    }
   ],
   "source": [
    "from time import time\n",
    "\n",
    "def add (x, y=10):\n",
    "    return x + y\n",
    "\n",
    "before = time()\n",
    "print('add(10):', add(10))\n",
    "after = time()\n",
    "print('time_take:', after - before)"
   ]
  },
  {
   "cell_type": "code",
   "execution_count": 12,
   "metadata": {},
   "outputs": [
    {
     "name": "stdout",
     "output_type": "stream",
     "text": [
      "elapsed 7.152557373046875e-07\n",
      "30\n"
     ]
    }
   ],
   "source": [
    "from time import time\n",
    "\n",
    "def timer(func):\n",
    "    def f(*args, **kwargs):\n",
    "        before = time()\n",
    "        rv = func(*args, **kwargs)\n",
    "        after = time()\n",
    "        print('elapsed', after - before)\n",
    "        return rv\n",
    "    return f\n",
    "\n",
    "@timer\n",
    "def add(x, y=10):\n",
    "    return x + y\n",
    "\n",
    "print(add(20))"
   ]
  },
  {
   "cell_type": "markdown",
   "metadata": {},
   "source": [
    "<p>A decorator is merely a syntax that is equivalent to the syntax <i>sub = timer(sub).</i></p> \n",
    "<p>Its syntax fits into the ability to dynamically construct a function to wrap this behaviour. So we were able to slip in the extra functionality we want withour rewriting the code. With *args and **kwargs our decorator works on functions with any parameters.</p>"
   ]
  },
  {
   "cell_type": "code",
   "execution_count": 13,
   "metadata": {},
   "outputs": [
    {
     "name": "stdout",
     "output_type": "stream",
     "text": [
      "running add\n",
      "running add\n",
      "15\n"
     ]
    }
   ],
   "source": [
    "def ntimes(n):\n",
    "    def inner(f):\n",
    "        def wrapper(*args, **kwargs):\n",
    "            for _ in range(n):\n",
    "                print('running {.__name__}'.format(f))\n",
    "                rv = f(*args, **kwargs)\n",
    "            return rv\n",
    "        return wrapper\n",
    "    return inner\n",
    "\n",
    "@ntimes(2)\n",
    "def add(x, y=10):\n",
    "    return x + y\n",
    "\n",
    "print(add(5))"
   ]
  },
  {
   "cell_type": "markdown",
   "metadata": {},
   "source": [
    "<p>This is called <b>higher-order decorators</b>. It is a fairly simplistic extension of the idea \"a function can return a function\". There is a concept \"closure object duality\".</p>"
   ]
  },
  {
   "cell_type": "code",
   "execution_count": null,
   "metadata": {},
   "outputs": [],
   "source": []
  }
 ],
 "metadata": {
  "kernelspec": {
   "display_name": "Python 3",
   "language": "python",
   "name": "python3"
  },
  "language_info": {
   "codemirror_mode": {
    "name": "ipython",
    "version": 3
   },
   "file_extension": ".py",
   "mimetype": "text/x-python",
   "name": "python",
   "nbconvert_exporter": "python",
   "pygments_lexer": "ipython3",
   "version": "3.6.7"
  }
 },
 "nbformat": 4,
 "nbformat_minor": 2
}
