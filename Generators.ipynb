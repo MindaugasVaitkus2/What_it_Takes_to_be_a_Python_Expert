{
 "cells": [
  {
   "cell_type": "markdown",
   "metadata": {},
   "source": [
    "<h1>Generators</h1>\n",
    "<p>Generators are very interesting and very powerful feature of python. Will start with basics. As we have noticed before, there is always a top-level syntax or function and some underscore method that implements it. If we have parentheses after smth. this is what is called <i>call</i> protocol and there is some method __call__ that implements it.</p>"
   ]
  },
  {
   "cell_type": "code",
   "execution_count": 1,
   "metadata": {},
   "outputs": [],
   "source": [
    "def add1(x,y):\n",
    "    return x + y\n",
    "\n",
    "class Adder:\n",
    "    def __call__(self, x, y):\n",
    "        return x + y\n",
    "add2 = Adder()"
   ]
  },
  {
   "cell_type": "markdown",
   "metadata": {},
   "source": [
    "<p>What is the difference between this two methods? The answer is unless we start digging into it we will not be able to tell the difference.</p>"
   ]
  },
  {
   "cell_type": "code",
   "execution_count": 4,
   "metadata": {},
   "outputs": [
    {
     "name": "stdout",
     "output_type": "stream",
     "text": [
      "<class 'function'>\n",
      "<class '__main__.Adder'>\n",
      "8\n",
      "8\n"
     ]
    }
   ],
   "source": [
    "print(type(add1))\n",
    "\n",
    "print(type(add2))\n",
    "\n",
    "print(add1(3,5))\n",
    "print(add2(3,5))"
   ]
  },
  {
   "cell_type": "markdown",
   "metadata": {},
   "source": [
    "<p>But functionally they are identical. From the perspective of writing the code we will always want to do the shorter add1 syntax. But there is a fundamental difference. If we want to add some stateful behaviour like this:</p>"
   ]
  },
  {
   "cell_type": "code",
   "execution_count": 5,
   "metadata": {},
   "outputs": [],
   "source": [
    "def add1(x,y):\n",
    "    return x + y\n",
    "\n",
    "class Adder:\n",
    "    def __init__(self):\n",
    "        self.z = 0\n",
    "    def __call__(self, x, y):\n",
    "        self.z += 1\n",
    "        return x + y + self.z\n",
    "add2 = Adder()"
   ]
  },
  {
   "cell_type": "markdown",
   "metadata": {},
   "source": [
    "<p>The core idea here is that fundamentally there is some very nice syntax and then some object model that everything kind of sits in. And this is closer to what the object model looks like.</p>"
   ]
  },
  {
   "cell_type": "markdown",
   "metadata": {},
   "source": [
    "<p>But lets think of it in a different way. Let's think about the function that takes up a lot of time to do something. Maybe a function that goes off and performs a request and it needs to load data from the database. </p>"
   ]
  },
  {
   "cell_type": "code",
   "execution_count": 6,
   "metadata": {},
   "outputs": [],
   "source": [
    "def load_data():\n",
    "    rows = []\n",
    "    while db.read():\n",
    "        row.append()"
   ]
  },
  {
   "cell_type": "markdown",
   "metadata": {},
   "source": [
    "<p>This will be a bit tricky for us to actually demo so we will do just a couple simplifications for this code to kind of mimic what long running computation looks like. </p>"
   ]
  },
  {
   "cell_type": "code",
   "execution_count": 10,
   "metadata": {},
   "outputs": [
    {
     "name": "stdout",
     "output_type": "stream",
     "text": [
      "[0, 1, 2, 3, 4, 5, 6, 7, 8, 9]\n"
     ]
    }
   ],
   "source": [
    "from time import sleep\n",
    "def compute():\n",
    "    rv = []\n",
    "    for i in range(10):\n",
    "        sleep(.5)\n",
    "        rv.append(i)\n",
    "    return rv\n",
    "\n",
    "print(compute())"
   ]
  },
  {
   "cell_type": "markdown",
   "metadata": {},
   "source": [
    "<p>Even in this very simple case we are sitting for 5 seconds and waiting for our list of values to even start processing the very first entry of this values. And maybe we don't even need to have this entries all at the same time. If we had range(1000000000000000) in the function we would spend gygabytes of memory. And if we need to look at it one by one it is both wasteful in terms on time and memory it takes. Let's think of a better way to do this. And we can start with our object mode.</p>"
   ]
  },
  {
   "cell_type": "code",
   "execution_count": null,
   "metadata": {},
   "outputs": [],
   "source": [
    "class Compute:\n",
    "    def __call(self):\n",
    "        rv = []\n",
    "        for i in range(10):\n",
    "            sleep(.5)\n",
    "            rv.append(i)\n",
    "        return rv\n",
    "    \n",
    "compute = Compute()"
   ]
  },
  {
   "cell_type": "markdown",
   "metadata": {},
   "source": [
    "<p>So we have made a class and this does not help us much. But we kind of seen that pattern before: we want one element at a time and we gonna get each element, process it and maybe throw it away. It is a basic looping construct! And one thing we might now is that in python we see top-level syntax or some top-level functions have some corresponding underscore method that implements it.</p>"
   ]
  },
  {
   "cell_type": "code",
   "execution_count": null,
   "metadata": {},
   "outputs": [],
   "source": [
    "# for x in xs:\n",
    "#     pass\n",
    "\n",
    "# this syntx looks like this  (more or less) under the cover:\n",
    "\n",
    "# xi = iter(xs)\n",
    "# while True:\n",
    "#     x = next(xi)"
   ]
  },
  {
   "cell_type": "markdown",
   "metadata": {},
   "source": [
    "<p>And we can probably guess what the underscore functions do we have to implement would be. They would be __iter__ and __next__:</p>"
   ]
  },
  {
   "cell_type": "code",
   "execution_count": 11,
   "metadata": {},
   "outputs": [],
   "source": [
    "# xi = iter(xs)         --> __iter__\n",
    "# while True:\n",
    "#     x = next(xi)      --> __next__"
   ]
  },
  {
   "cell_type": "markdown",
   "metadata": {},
   "source": [
    "<p>So what that means is that we can take a class in python, we can add an __iter__ and the __next__ method and suddenly that class will be iterable. And in the process of iteration we can do just anything, including performing long computations.</p>"
   ]
  },
  {
   "cell_type": "code",
   "execution_count": 13,
   "metadata": {},
   "outputs": [],
   "source": [
    "from time import sleep\n",
    "def compute():\n",
    "    rv = []\n",
    "    for i in range(10):\n",
    "        sleep(.5)\n",
    "        rv.append(i)\n",
    "    return rv\n",
    "\n",
    "class Compute:\n",
    "    def __iter__(self):\n",
    "        self.last = 0\n",
    "        return self\n",
    "    def __next__(self):\n",
    "        # computes what was the last value we looked at\n",
    "        rv = self.last\n",
    "        # increments the last value we looked at\n",
    "        self.last +=1\n",
    "        # raises stop iteration if there is too many\n",
    "        if self.last > 10:\n",
    "            raise StopIteration()\n",
    "        # sleeps corresponding to our long running computation\n",
    "        sleep(.5)\n",
    "        return rv\n",
    "\n",
    "    \n",
    "compute = Compute()"
   ]
  },
  {
   "cell_type": "markdown",
   "metadata": {},
   "source": [
    "<p>And now compute methods are totally different. The first compute returns a list of values, and the second method returns a single value. The way we use it is like this:</p>"
   ]
  },
  {
   "cell_type": "code",
   "execution_count": 14,
   "metadata": {},
   "outputs": [
    {
     "name": "stdout",
     "output_type": "stream",
     "text": [
      "0\n",
      "1\n",
      "2\n",
      "3\n",
      "4\n",
      "5\n",
      "6\n",
      "7\n",
      "8\n",
      "9\n"
     ]
    }
   ],
   "source": [
    "for val in Compute():\n",
    "    print(val)"
   ]
  },
  {
   "cell_type": "markdown",
   "metadata": {},
   "source": [
    "<p>It still takes 5 seconds to prind out the whole thing but we only have to pay for one unit of computation before we start using that value. And there is no storage, so we are storage-efficient. But this whole <i>class Compute</i> is really ugly to read. There is a much simpler way to write a function that operates in this fashion.  And that is what the generator syntax is:</p>"
   ]
  },
  {
   "cell_type": "code",
   "execution_count": 15,
   "metadata": {},
   "outputs": [],
   "source": [
    "def compute():\n",
    "    for i in range(10):\n",
    "        sleep(.5)\n",
    "        yield i"
   ]
  },
  {
   "cell_type": "markdown",
   "metadata": {},
   "source": [
    "<p><b>The state of this function is maintained internally and we returning just one element of computation at once. This is the core concept behind generators. Instead of eagerly computing values we give them to the user as the user asks for them.</b></p>"
   ]
  },
  {
   "cell_type": "markdown",
   "metadata": {},
   "source": [
    "<p>But there is another similarly important and critical core concept to how generators work beyond just this.</p>"
   ]
  },
  {
   "cell_type": "markdown",
   "metadata": {},
   "source": [
    "<p>We have all seen APIs that look like this:</p>"
   ]
  },
  {
   "cell_type": "code",
   "execution_count": null,
   "metadata": {},
   "outputs": [],
   "source": [
    "class Api:\n",
    "    def run_this_first(self):\n",
    "        first()\n",
    "    def run_this_second(self):\n",
    "        second()\n",
    "    def run_this_last(self):\n",
    "        last()"
   ]
  },
  {
   "cell_type": "markdown",
   "metadata": {},
   "source": [
    "<p>Which have methods that indicate the order in which we have to run the functions. If we don't run run_this_first() first, everything blows up. In the documentation they tell to run the functions in a prescribed order. But this API is lying to us because nothing stops us to doing this:</p>"
   ]
  },
  {
   "cell_type": "code",
   "execution_count": null,
   "metadata": {},
   "outputs": [],
   "source": []
  }
 ],
 "metadata": {
  "kernelspec": {
   "display_name": "Python 3",
   "language": "python",
   "name": "python3"
  },
  "language_info": {
   "codemirror_mode": {
    "name": "ipython",
    "version": 3
   },
   "file_extension": ".py",
   "mimetype": "text/x-python",
   "name": "python",
   "nbconvert_exporter": "python",
   "pygments_lexer": "ipython3",
   "version": "3.6.7"
  }
 },
 "nbformat": 4,
 "nbformat_minor": 2
}
